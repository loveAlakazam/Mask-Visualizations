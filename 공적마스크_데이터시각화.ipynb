{
 "cells": [
  {
   "cell_type": "markdown",
   "metadata": {},
   "source": [
    "# 참고자료\n",
    "\n",
    "- 소스코드 참고\n",
    "    - [스파르타 코딩: 파이썬 혼자놀기 패키지](https://www.notion.so/85d77f7239f74a2e9b7de8b1ecb40bcf)\n",
    "\n",
    "\n",
    "- 활용 데이터\n",
    "    - [공공데이터포털/ 건강보험 심사평가원/ 공적마스크 판매정보](https://www.data.go.kr/dataset/15043025/openapi.do)\n",
    "\n",
    "\n",
    "- 미니프로젝트 기간: 2020/04/13~ 2020/04/21\n"
   ]
  },
  {
   "cell_type": "markdown",
   "metadata": {},
   "source": [
    "##  1. requests 사용 예제\n",
    "\n",
    "- 서울시 성동구 (특정 지역)에 대한 마스크 정보를 수집한다."
   ]
  },
  {
   "cell_type": "code",
   "execution_count": 1,
   "metadata": {
    "scrolled": true
   },
   "outputs": [
    {
     "name": "stdout",
     "output_type": "stream",
     "text": [
      "서울특별시 성동구 마장로35길 76 1층 (마장동) 세심약국\n",
      "서울특별시 성동구 마조로 17 (행당동) 한양약국\n",
      "서울특별시 성동구 용답중앙길 80-1 (용답동) 메디팜일진약국\n",
      "서울특별시 성동구 동호로 100 511호 (금호동3가) 대한약국\n",
      "서울특별시 성동구 장터길 49 (금호동3가) 삼일약국\n",
      "서울특별시 성동구 장터길 45-1 (금호동3가) 도원약국\n",
      "서울특별시 성동구 무수막길 82 (금호동2가) 신동광약국\n",
      "서울특별시 성동구 무학봉길 92 (하왕십리동) 왕십리약국\n",
      "서울특별시 성동구 행당로 129 (행당동) 새서독약국\n",
      "서울특별시 성동구 왕십리로 275-1 (행당동) 부일약국\n",
      "서울특별시 성동구 마장로 321 (마장동) 시대약국\n",
      "서울특별시 성동구 사근동길 53 (사근동) 영화당약국\n",
      "서울특별시 성동구 용답25길 14 (용답동) 새대우약국\n",
      "서울특별시 성동구 성덕정길 80 (성수동2가) 부원약국\n",
      "서울특별시 성동구 광나루로 323 (송정동) 왕약국\n",
      "서울특별시 성동구 광나루로11길 41-1 1층 (송정동) 새인선약국\n",
      "서울특별시 성동구 성덕정길 127 (성수동2가) 신세계약국\n",
      "서울특별시 성동구 아차산로7길 19 (성수동2가) 메디팜보배약국\n",
      "서울특별시 성동구 동일로 135 (성수동2가) 동틀약국\n",
      "서울특별시 성동구 행당로 1 1층 (금호동1가, 로타리빌딩) 신금호약국\n",
      "서울특별시 성동구 독서당로 302 1층 (금호동4가) 금호프라자약국\n",
      "서울특별시 성동구 행당로 87 331호 (행당동, 대림리빙프라자) 메디팜대림약국\n",
      "서울특별시 성동구 독서당로 302 3층 (금호동4가) 더힘찬약국\n",
      "서울특별시 성동구 왕십리로 328-1 산호약국 1층 (도선동) 산호약국\n",
      "서울특별시 성동구 왕십리로 339 (하왕십리동) 우인약국\n",
      "서울특별시 성동구 고산자로 253 (도선동) 비타민약국\n",
      "서울특별시 성동구 사근동길 4 1층 (행당동) 대학약국\n",
      "서울특별시 성동구 광나루로 325 (송정동) 새왕약국\n",
      "서울특별시 성동구 마장로 209 (홍익동) 정성약국\n",
      "서울특별시 성동구 사근동길 2 (행당동) 종로약국\n",
      "서울특별시 성동구 용답중앙15길 11 (용답동) 실로암약국\n",
      "서울특별시 성동구 마조로 24 (행당동) 신성림약국\n",
      "서울특별시 성동구 뚝섬로 400 (성수동2가) 자연온누리약국\n",
      "서울특별시 성동구 아차산로7길 2 (성수동2가) 태화약국\n",
      "서울특별시 성동구 행당로 87 107호 (행당동, 행당동 대림아파트) 하이온누리약국\n",
      "서울특별시 성동구 고산자로 234 402호 (행당동) 메디칼약국\n",
      "서울특별시 성동구 장터길 34 1층 (금호동4가, 남지빌딩) 정은약국\n",
      "서울특별시 성동구 한림말1길 16 1층 (옥수동) 어울림온누리약국\n",
      "서울특별시 성동구 독서당로 299-2 1층 (금호동3가) 행복이열리는약국\n",
      "서울특별시 성동구 왕십리로 410 상가 L동 3층 318호 (하왕십리동, 센트라스) 유연약국\n",
      "서울특별시 성동구 무학로 33 206호 (하왕십리동) 튼튼약국\n",
      "서울특별시 성동구 무학로 33 104호 (하왕십리동) 메디팜푸른약국\n",
      "서울특별시 성동구 왕십리로 381 1층 (하왕십리동) 행운약국\n",
      "서울특별시 성동구 왕십리광장로 17 왕십리민자역사 4층 OV3-1호 (행당동) 지안약국\n",
      "서울특별시 성동구 왕십리로 271-1 1층 (행당동) 미소약국\n",
      "서울특별시 성동구 아차산로 113 삼진빌딩 3층 302호 (성수동2가) 성수메디칼약국\n",
      "서울특별시 성동구 왕십리로 410 G동 204호 (하왕십리동, 센트라스) 바른약국\n",
      "서울특별시 성동구 아차산로 120 베델 플레이스 3층 302호 (성수동2가) 성수햇살약국\n",
      "서울특별시 성동구 독서당로 303-2 1층 (금호동3가) 사랑약국\n",
      "서울특별시 성동구 독서당로40길 39 옥수 어울림 211호 (옥수동) 미소어울림약국\n",
      "서울특별시 성동구 매봉길 48 106호 (옥수동) 옥수온누리약국\n",
      "서울특별시 성동구 왕십리로 50 지하 1층 (성수동1가) 서울숲팜프라자약국\n"
     ]
    }
   ],
   "source": [
    "# 정보를 긁어오는데 필요한 requests 라이브러리를 가져온다.\n",
    "import requests\n",
    "\n",
    "# 입력한 주소로 가서 정보를 가져온다.\n",
    "r= requests.get('https://8oi9s0nnth.apigw.ntruss.com/corona19-masks/v1/storesByAddr/json?address=서울특별시 성동구')\n",
    "\n",
    "# 가져온 정보를 파이썬이 사용할 수 있도록 변경한다.\n",
    "rjson= r.json()\n",
    "\n",
    "# 상점정보를 꺼낸다.\n",
    "store_list= rjson['stores']\n",
    "\n",
    "\n",
    "# 상점 목록을 돌면서 작업을 진행한다\n",
    "for store in store_list:\n",
    "    #충분한 양의 마스크를 가지고 있는 약국 리스트만 뽑는다.\n",
    "    if store['remain_stat']=='plenty':\n",
    "        #약국의 주소와 이름을 출력\n",
    "        print(store['addr'], store['name'])\n",
    "    "
   ]
  },
  {
   "cell_type": "markdown",
   "metadata": {},
   "source": [
    "## 2. pandas를 이용하기\n",
    "\n",
    "- pandas를 이용하여 remain_stat(마스크 재고상태) 종류가 몇개인지 확인한다.\n",
    "\n",
    "### (2-1). json 데이터 읽어오기"
   ]
  },
  {
   "cell_type": "code",
   "execution_count": 2,
   "metadata": {},
   "outputs": [
    {
     "data": {
      "text/html": [
       "<div>\n",
       "<style scoped>\n",
       "    .dataframe tbody tr th:only-of-type {\n",
       "        vertical-align: middle;\n",
       "    }\n",
       "\n",
       "    .dataframe tbody tr th {\n",
       "        vertical-align: top;\n",
       "    }\n",
       "\n",
       "    .dataframe thead th {\n",
       "        text-align: right;\n",
       "    }\n",
       "</style>\n",
       "<table border=\"1\" class=\"dataframe\">\n",
       "  <thead>\n",
       "    <tr style=\"text-align: right;\">\n",
       "      <th></th>\n",
       "      <th>식별코드</th>\n",
       "      <th>주소</th>\n",
       "      <th>데이터 생성일자</th>\n",
       "      <th>위도</th>\n",
       "      <th>경도</th>\n",
       "      <th>약국이름</th>\n",
       "      <th>재고 상태</th>\n",
       "      <th>입고 시각</th>\n",
       "      <th>판매처 유형</th>\n",
       "    </tr>\n",
       "  </thead>\n",
       "  <tbody>\n",
       "    <tr>\n",
       "      <td>0</td>\n",
       "      <td>11805382</td>\n",
       "      <td>서울특별시 성동구 마장로35길 76 1층 (마장동)</td>\n",
       "      <td>2020/04/20 23:55:00</td>\n",
       "      <td>37.570217</td>\n",
       "      <td>127.041988</td>\n",
       "      <td>세심약국</td>\n",
       "      <td>plenty</td>\n",
       "      <td>2020/04/20 08:36:00</td>\n",
       "      <td>01</td>\n",
       "    </tr>\n",
       "    <tr>\n",
       "      <td>1</td>\n",
       "      <td>11812354</td>\n",
       "      <td>서울특별시 성동구 마조로 17 (행당동)</td>\n",
       "      <td>2020/04/20 23:55:00</td>\n",
       "      <td>37.559560</td>\n",
       "      <td>127.040471</td>\n",
       "      <td>한양약국</td>\n",
       "      <td>plenty</td>\n",
       "      <td>2020/04/20 08:42:00</td>\n",
       "      <td>01</td>\n",
       "    </tr>\n",
       "    <tr>\n",
       "      <td>2</td>\n",
       "      <td>11815248</td>\n",
       "      <td>서울특별시 성동구 용답중앙길 80-1 (용답동)</td>\n",
       "      <td>2020/04/20 23:55:00</td>\n",
       "      <td>37.562674</td>\n",
       "      <td>127.054144</td>\n",
       "      <td>메디팜일진약국</td>\n",
       "      <td>plenty</td>\n",
       "      <td>2020/04/20 08:46:00</td>\n",
       "      <td>01</td>\n",
       "    </tr>\n",
       "  </tbody>\n",
       "</table>\n",
       "</div>"
      ],
      "text/plain": [
       "       식별코드                            주소             데이터 생성일자         위도  \\\n",
       "0  11805382  서울특별시 성동구 마장로35길 76 1층 (마장동)  2020/04/20 23:55:00  37.570217   \n",
       "1  11812354        서울특별시 성동구 마조로 17 (행당동)  2020/04/20 23:55:00  37.559560   \n",
       "2  11815248    서울특별시 성동구 용답중앙길 80-1 (용답동)  2020/04/20 23:55:00  37.562674   \n",
       "\n",
       "           경도     약국이름   재고 상태                입고 시각 판매처 유형  \n",
       "0  127.041988     세심약국  plenty  2020/04/20 08:36:00     01  \n",
       "1  127.040471     한양약국  plenty  2020/04/20 08:42:00     01  \n",
       "2  127.054144  메디팜일진약국  plenty  2020/04/20 08:46:00     01  "
      ]
     },
     "execution_count": 2,
     "metadata": {},
     "output_type": "execute_result"
    }
   ],
   "source": [
    "import pandas as pd\n",
    "\n",
    "# 데이터프레임 만들기\n",
    "df = pd.DataFrame(data=store_list)\n",
    "\n",
    "\n",
    "# 컬럼 이름 변경\n",
    "df.rename(columns={\n",
    "    'addr':'주소',\n",
    "    'code':'식별코드',\n",
    "    'created_at':'데이터 생성일자',\n",
    "    'lat':'위도',\n",
    "    'lng':'경도',\n",
    "    'name':'약국이름',\n",
    "    'remain_stat':'재고 상태',\n",
    "    'stock_at': '입고 시각',\n",
    "    'type':'판매처 유형'\n",
    "}, inplace=True)\n",
    "\n",
    "\n",
    "# '식별코드'를 인덱스로 한다.\n",
    "ddf=df.set_index(['식별코드'])\n",
    "\n",
    "# reset_index\n",
    "ddf.reset_index(inplace=True)\n",
    "\n",
    "ddf.head(3)"
   ]
  },
  {
   "cell_type": "markdown",
   "metadata": {},
   "source": [
    "\n",
    "\n",
    "### (2-2) 컬럼값을 추가하기 (시/구/동)\n",
    "\n",
    "[참고 url- 괄호안 글자 가져오기](https://stackoverflow.com/questions/4894069/regular-expression-to-return-text-between-parenthesis) \n",
    "<br>\n",
    "활용: '(' 인덱스+1 ~ '동'인덱스+1 사이의 글자를 가져온다"
   ]
  },
  {
   "cell_type": "code",
   "execution_count": 3,
   "metadata": {},
   "outputs": [
    {
     "data": {
      "text/html": [
       "<div>\n",
       "<style scoped>\n",
       "    .dataframe tbody tr th:only-of-type {\n",
       "        vertical-align: middle;\n",
       "    }\n",
       "\n",
       "    .dataframe tbody tr th {\n",
       "        vertical-align: top;\n",
       "    }\n",
       "\n",
       "    .dataframe thead th {\n",
       "        text-align: right;\n",
       "    }\n",
       "</style>\n",
       "<table border=\"1\" class=\"dataframe\">\n",
       "  <thead>\n",
       "    <tr style=\"text-align: right;\">\n",
       "      <th></th>\n",
       "      <th>식별코드</th>\n",
       "      <th>주소</th>\n",
       "      <th>데이터 생성일자</th>\n",
       "      <th>위도</th>\n",
       "      <th>경도</th>\n",
       "      <th>약국이름</th>\n",
       "      <th>재고 상태</th>\n",
       "      <th>입고 시각</th>\n",
       "      <th>판매처 유형</th>\n",
       "      <th>시</th>\n",
       "      <th>구</th>\n",
       "      <th>동</th>\n",
       "    </tr>\n",
       "  </thead>\n",
       "  <tbody>\n",
       "    <tr>\n",
       "      <td>0</td>\n",
       "      <td>11805382</td>\n",
       "      <td>서울특별시 성동구 마장로35길 76 1층 (마장동)</td>\n",
       "      <td>2020/04/20 23:55:00</td>\n",
       "      <td>37.570217</td>\n",
       "      <td>127.041988</td>\n",
       "      <td>세심약국</td>\n",
       "      <td>plenty</td>\n",
       "      <td>2020/04/20 08:36:00</td>\n",
       "      <td>01</td>\n",
       "      <td>서울특별시</td>\n",
       "      <td>성동구</td>\n",
       "      <td>마장동</td>\n",
       "    </tr>\n",
       "    <tr>\n",
       "      <td>1</td>\n",
       "      <td>11812354</td>\n",
       "      <td>서울특별시 성동구 마조로 17 (행당동)</td>\n",
       "      <td>2020/04/20 23:55:00</td>\n",
       "      <td>37.559560</td>\n",
       "      <td>127.040471</td>\n",
       "      <td>한양약국</td>\n",
       "      <td>plenty</td>\n",
       "      <td>2020/04/20 08:42:00</td>\n",
       "      <td>01</td>\n",
       "      <td>서울특별시</td>\n",
       "      <td>성동구</td>\n",
       "      <td>행당동</td>\n",
       "    </tr>\n",
       "    <tr>\n",
       "      <td>2</td>\n",
       "      <td>11815248</td>\n",
       "      <td>서울특별시 성동구 용답중앙길 80-1 (용답동)</td>\n",
       "      <td>2020/04/20 23:55:00</td>\n",
       "      <td>37.562674</td>\n",
       "      <td>127.054144</td>\n",
       "      <td>메디팜일진약국</td>\n",
       "      <td>plenty</td>\n",
       "      <td>2020/04/20 08:46:00</td>\n",
       "      <td>01</td>\n",
       "      <td>서울특별시</td>\n",
       "      <td>성동구</td>\n",
       "      <td>용답동</td>\n",
       "    </tr>\n",
       "  </tbody>\n",
       "</table>\n",
       "</div>"
      ],
      "text/plain": [
       "       식별코드                            주소             데이터 생성일자         위도  \\\n",
       "0  11805382  서울특별시 성동구 마장로35길 76 1층 (마장동)  2020/04/20 23:55:00  37.570217   \n",
       "1  11812354        서울특별시 성동구 마조로 17 (행당동)  2020/04/20 23:55:00  37.559560   \n",
       "2  11815248    서울특별시 성동구 용답중앙길 80-1 (용답동)  2020/04/20 23:55:00  37.562674   \n",
       "\n",
       "           경도     약국이름   재고 상태                입고 시각 판매처 유형      시    구    동  \n",
       "0  127.041988     세심약국  plenty  2020/04/20 08:36:00     01  서울특별시  성동구  마장동  \n",
       "1  127.040471     한양약국  plenty  2020/04/20 08:42:00     01  서울특별시  성동구  행당동  \n",
       "2  127.054144  메디팜일진약국  plenty  2020/04/20 08:46:00     01  서울특별시  성동구  용답동  "
      ]
     },
     "execution_count": 3,
     "metadata": {},
     "output_type": "execute_result"
    }
   ],
   "source": [
    "def remove_bracket(addr):#(금호동 1가) => 금호동\n",
    "    return addr[ addr.find('(')+1 : addr.rfind('동')+1 ]\n",
    "    \n",
    "    \n",
    "ddf_si=[] #tmp[0]\n",
    "ddf_gu=[] #tmp[1]\n",
    "ddf_dong=[]\n",
    "\n",
    "for i in range(len(ddf)):\n",
    "    tmp=ddf['주소'][i].split()\n",
    "    ddf_si.append(tmp[0])\n",
    "    ddf_gu.append(tmp[1])\n",
    "    ddf_dong.append(remove_bracket(ddf['주소'][i]))\n",
    "    \n",
    "\n",
    "ddf['시']=ddf_si\n",
    "ddf['구']=ddf_gu\n",
    "ddf['동']=ddf_dong\n",
    "\n",
    "ddf.head(3)"
   ]
  },
  {
   "cell_type": "markdown",
   "metadata": {},
   "source": [
    "<br>\n",
    "\n",
    "### (2-3) 판매처 유형 바꾸기\n",
    "\n",
    "- 데이터 출처의 다큐먼트에 따르면\n",
    "- 판매유형은 총 3가지가 있으며 (01: 약국 / 02: 우체국 / 03: 농협 ) 이다."
   ]
  },
  {
   "cell_type": "code",
   "execution_count": 4,
   "metadata": {},
   "outputs": [
    {
     "data": {
      "text/plain": [
       "01    148\n",
       "Name: 판매처 유형, dtype: int64"
      ]
     },
     "execution_count": 4,
     "metadata": {},
     "output_type": "execute_result"
    }
   ],
   "source": [
    "ddf['판매처 유형'].value_counts()"
   ]
  },
  {
   "cell_type": "markdown",
   "metadata": {},
   "source": [
    "\n",
    "\n",
    "서울특별시 성동구의 경우에는 모두 약국에서 공적마스크를 판매한다."
   ]
  },
  {
   "cell_type": "code",
   "execution_count": 5,
   "metadata": {},
   "outputs": [
    {
     "data": {
      "text/html": [
       "<div>\n",
       "<style scoped>\n",
       "    .dataframe tbody tr th:only-of-type {\n",
       "        vertical-align: middle;\n",
       "    }\n",
       "\n",
       "    .dataframe tbody tr th {\n",
       "        vertical-align: top;\n",
       "    }\n",
       "\n",
       "    .dataframe thead th {\n",
       "        text-align: right;\n",
       "    }\n",
       "</style>\n",
       "<table border=\"1\" class=\"dataframe\">\n",
       "  <thead>\n",
       "    <tr style=\"text-align: right;\">\n",
       "      <th></th>\n",
       "      <th>식별코드</th>\n",
       "      <th>주소</th>\n",
       "      <th>데이터 생성일자</th>\n",
       "      <th>위도</th>\n",
       "      <th>경도</th>\n",
       "      <th>약국이름</th>\n",
       "      <th>재고 상태</th>\n",
       "      <th>입고 시각</th>\n",
       "      <th>판매처 유형</th>\n",
       "      <th>시</th>\n",
       "      <th>구</th>\n",
       "      <th>동</th>\n",
       "    </tr>\n",
       "  </thead>\n",
       "  <tbody>\n",
       "    <tr>\n",
       "      <td>0</td>\n",
       "      <td>11805382</td>\n",
       "      <td>서울특별시 성동구 마장로35길 76 1층 (마장동)</td>\n",
       "      <td>2020/04/20 23:55:00</td>\n",
       "      <td>37.570217</td>\n",
       "      <td>127.041988</td>\n",
       "      <td>세심약국</td>\n",
       "      <td>plenty</td>\n",
       "      <td>2020/04/20 08:36:00</td>\n",
       "      <td>약국</td>\n",
       "      <td>서울특별시</td>\n",
       "      <td>성동구</td>\n",
       "      <td>마장동</td>\n",
       "    </tr>\n",
       "    <tr>\n",
       "      <td>1</td>\n",
       "      <td>11812354</td>\n",
       "      <td>서울특별시 성동구 마조로 17 (행당동)</td>\n",
       "      <td>2020/04/20 23:55:00</td>\n",
       "      <td>37.559560</td>\n",
       "      <td>127.040471</td>\n",
       "      <td>한양약국</td>\n",
       "      <td>plenty</td>\n",
       "      <td>2020/04/20 08:42:00</td>\n",
       "      <td>약국</td>\n",
       "      <td>서울특별시</td>\n",
       "      <td>성동구</td>\n",
       "      <td>행당동</td>\n",
       "    </tr>\n",
       "    <tr>\n",
       "      <td>2</td>\n",
       "      <td>11815248</td>\n",
       "      <td>서울특별시 성동구 용답중앙길 80-1 (용답동)</td>\n",
       "      <td>2020/04/20 23:55:00</td>\n",
       "      <td>37.562674</td>\n",
       "      <td>127.054144</td>\n",
       "      <td>메디팜일진약국</td>\n",
       "      <td>plenty</td>\n",
       "      <td>2020/04/20 08:46:00</td>\n",
       "      <td>약국</td>\n",
       "      <td>서울특별시</td>\n",
       "      <td>성동구</td>\n",
       "      <td>용답동</td>\n",
       "    </tr>\n",
       "  </tbody>\n",
       "</table>\n",
       "</div>"
      ],
      "text/plain": [
       "       식별코드                            주소             데이터 생성일자         위도  \\\n",
       "0  11805382  서울특별시 성동구 마장로35길 76 1층 (마장동)  2020/04/20 23:55:00  37.570217   \n",
       "1  11812354        서울특별시 성동구 마조로 17 (행당동)  2020/04/20 23:55:00  37.559560   \n",
       "2  11815248    서울특별시 성동구 용답중앙길 80-1 (용답동)  2020/04/20 23:55:00  37.562674   \n",
       "\n",
       "           경도     약국이름   재고 상태                입고 시각 판매처 유형      시    구    동  \n",
       "0  127.041988     세심약국  plenty  2020/04/20 08:36:00     약국  서울특별시  성동구  마장동  \n",
       "1  127.040471     한양약국  plenty  2020/04/20 08:42:00     약국  서울특별시  성동구  행당동  \n",
       "2  127.054144  메디팜일진약국  plenty  2020/04/20 08:46:00     약국  서울특별시  성동구  용답동  "
      ]
     },
     "execution_count": 5,
     "metadata": {},
     "output_type": "execute_result"
    }
   ],
   "source": [
    "# 01 -> 약국 으로 변경\n",
    "ddf.loc[ ddf['판매처 유형']=='01', '판매처 유형']='약국'\n",
    "\n",
    "# 02 -> 우체국 으로 변경\n",
    "ddf.loc[ ddf['판매처 유형']=='02', '판매처 유형']='우체국'\n",
    "\n",
    "# 03 -> 농협 으로 변경\n",
    "ddf.loc[ ddf['판매처 유형']=='03', '판매처 유형']='농협'\n",
    "\n",
    "ddf.head(3)"
   ]
  },
  {
   "cell_type": "markdown",
   "metadata": {},
   "source": [
    "\n",
    "<br>\n",
    "\n",
    "### 2-4. 컬럼값이 None인 데이터 찾기 \n",
    "\n",
    "데이터프레임에 저장된 데이터값들 중\n",
    "\"데이터 생성일자\" / \"재고상태\" / \"입고 시각\" 컬럼이 모두 None 경우가 있다.\n",
    "\n",
    "\n",
    "예)\n",
    "```\n",
    "ddf.iloc[146]\n",
    "```\n",
    "\n",
    "```python\n",
    "식별코드                                12868329\n",
    "주소          서울특별시 성동구 장터길 24 설당빌딩 1층 (금호동4가)\n",
    "데이터 생성일자                                None\n",
    "위도                                   37.5482\n",
    "경도                                   127.019\n",
    "약국이름                                  금호우리약국\n",
    "재고 상태                                   None\n",
    "입고 시각                                   None\n",
    "판매처 유형                                    01\n",
    "Name: 146, dtype: object\n",
    "\n",
    "```\n",
    "\n",
    "### (2-4-1) None인 데이터 변경하기\n",
    "\n",
    "[ 변경 사항 ]\n",
    "- \"데이터 생성일자\" 컬럼이 None인 경우 : \"없음 \"으로 변경\n",
    "- \"재고 상태\" 컬럼이 None인 경우: break 로 변경\n",
    "- \"입고 시각\" 컬럼이 None인 경우: \"없음\" 으로 변경"
   ]
  },
  {
   "cell_type": "code",
   "execution_count": 6,
   "metadata": {},
   "outputs": [
    {
     "data": {
      "text/html": [
       "<div>\n",
       "<style scoped>\n",
       "    .dataframe tbody tr th:only-of-type {\n",
       "        vertical-align: middle;\n",
       "    }\n",
       "\n",
       "    .dataframe tbody tr th {\n",
       "        vertical-align: top;\n",
       "    }\n",
       "\n",
       "    .dataframe thead th {\n",
       "        text-align: right;\n",
       "    }\n",
       "</style>\n",
       "<table border=\"1\" class=\"dataframe\">\n",
       "  <thead>\n",
       "    <tr style=\"text-align: right;\">\n",
       "      <th></th>\n",
       "      <th>식별코드</th>\n",
       "      <th>주소</th>\n",
       "      <th>데이터 생성일자</th>\n",
       "      <th>위도</th>\n",
       "      <th>경도</th>\n",
       "      <th>약국이름</th>\n",
       "      <th>재고 상태</th>\n",
       "      <th>입고 시각</th>\n",
       "      <th>판매처 유형</th>\n",
       "      <th>시</th>\n",
       "      <th>구</th>\n",
       "      <th>동</th>\n",
       "    </tr>\n",
       "  </thead>\n",
       "  <tbody>\n",
       "    <tr>\n",
       "      <td>5</td>\n",
       "      <td>11822155</td>\n",
       "      <td>서울특별시 성동구 용답중앙3나길 24 (용답동)</td>\n",
       "      <td>None</td>\n",
       "      <td>37.567839</td>\n",
       "      <td>127.050708</td>\n",
       "      <td>정민약국</td>\n",
       "      <td>None</td>\n",
       "      <td>None</td>\n",
       "      <td>약국</td>\n",
       "      <td>서울특별시</td>\n",
       "      <td>성동구</td>\n",
       "      <td>용답동</td>\n",
       "    </tr>\n",
       "    <tr>\n",
       "      <td>21</td>\n",
       "      <td>11860120</td>\n",
       "      <td>서울특별시 성동구 왕십리로20길 34 (홍익동)</td>\n",
       "      <td>None</td>\n",
       "      <td>37.564878</td>\n",
       "      <td>127.035715</td>\n",
       "      <td>예전약국</td>\n",
       "      <td>None</td>\n",
       "      <td>None</td>\n",
       "      <td>약국</td>\n",
       "      <td>서울특별시</td>\n",
       "      <td>성동구</td>\n",
       "      <td>홍익동</td>\n",
       "    </tr>\n",
       "    <tr>\n",
       "      <td>111</td>\n",
       "      <td>12852139</td>\n",
       "      <td>서울특별시 성동구 난계로 114-31 2층 (하왕십리동, 금호베스트빌 상가)</td>\n",
       "      <td>None</td>\n",
       "      <td>37.561585</td>\n",
       "      <td>127.025997</td>\n",
       "      <td>방초한약국</td>\n",
       "      <td>None</td>\n",
       "      <td>None</td>\n",
       "      <td>약국</td>\n",
       "      <td>서울특별시</td>\n",
       "      <td>성동구</td>\n",
       "      <td>하왕십리동</td>\n",
       "    </tr>\n",
       "    <tr>\n",
       "      <td>146</td>\n",
       "      <td>12868329</td>\n",
       "      <td>서울특별시 성동구 장터길 24 설당빌딩 1층 (금호동4가)</td>\n",
       "      <td>None</td>\n",
       "      <td>37.548201</td>\n",
       "      <td>127.018575</td>\n",
       "      <td>금호우리약국</td>\n",
       "      <td>None</td>\n",
       "      <td>None</td>\n",
       "      <td>약국</td>\n",
       "      <td>서울특별시</td>\n",
       "      <td>성동구</td>\n",
       "      <td>금호동</td>\n",
       "    </tr>\n",
       "  </tbody>\n",
       "</table>\n",
       "</div>"
      ],
      "text/plain": [
       "         식별코드                                          주소 데이터 생성일자         위도  \\\n",
       "5    11822155                  서울특별시 성동구 용답중앙3나길 24 (용답동)     None  37.567839   \n",
       "21   11860120                  서울특별시 성동구 왕십리로20길 34 (홍익동)     None  37.564878   \n",
       "111  12852139  서울특별시 성동구 난계로 114-31 2층 (하왕십리동, 금호베스트빌 상가)     None  37.561585   \n",
       "146  12868329            서울특별시 성동구 장터길 24 설당빌딩 1층 (금호동4가)     None  37.548201   \n",
       "\n",
       "             경도    약국이름 재고 상태 입고 시각 판매처 유형      시    구      동  \n",
       "5    127.050708    정민약국  None  None     약국  서울특별시  성동구    용답동  \n",
       "21   127.035715    예전약국  None  None     약국  서울특별시  성동구    홍익동  \n",
       "111  127.025997   방초한약국  None  None     약국  서울특별시  성동구  하왕십리동  \n",
       "146  127.018575  금호우리약국  None  None     약국  서울특별시  성동구    금호동  "
      ]
     },
     "execution_count": 6,
     "metadata": {},
     "output_type": "execute_result"
    }
   ],
   "source": [
    "\n",
    "# DataFrame 자료형에서 Nan값인 컬럼을 찾아보기\n",
    "# \"재고 상태\" 컬럼이 None인 데이터만을 모은다.\n",
    "# [참고-Nan값 찾기] https://devlog.jwgo.kr/2018/09/11/how-to-check-nan-values-in-pandas/\n",
    "\n",
    "ddf.loc[ddf['재고 상태'].isnull()]"
   ]
  },
  {
   "cell_type": "code",
   "execution_count": 7,
   "metadata": {},
   "outputs": [
    {
     "data": {
      "text/html": [
       "<div>\n",
       "<style scoped>\n",
       "    .dataframe tbody tr th:only-of-type {\n",
       "        vertical-align: middle;\n",
       "    }\n",
       "\n",
       "    .dataframe tbody tr th {\n",
       "        vertical-align: top;\n",
       "    }\n",
       "\n",
       "    .dataframe thead th {\n",
       "        text-align: right;\n",
       "    }\n",
       "</style>\n",
       "<table border=\"1\" class=\"dataframe\">\n",
       "  <thead>\n",
       "    <tr style=\"text-align: right;\">\n",
       "      <th></th>\n",
       "      <th>식별코드</th>\n",
       "      <th>주소</th>\n",
       "      <th>데이터 생성일자</th>\n",
       "      <th>위도</th>\n",
       "      <th>경도</th>\n",
       "      <th>약국이름</th>\n",
       "      <th>재고 상태</th>\n",
       "      <th>입고 시각</th>\n",
       "      <th>판매처 유형</th>\n",
       "      <th>시</th>\n",
       "      <th>구</th>\n",
       "      <th>동</th>\n",
       "    </tr>\n",
       "  </thead>\n",
       "  <tbody>\n",
       "    <tr>\n",
       "      <td>5</td>\n",
       "      <td>11822155</td>\n",
       "      <td>서울특별시 성동구 용답중앙3나길 24 (용답동)</td>\n",
       "      <td>없음</td>\n",
       "      <td>37.567839</td>\n",
       "      <td>127.050708</td>\n",
       "      <td>정민약국</td>\n",
       "      <td>break</td>\n",
       "      <td>없음</td>\n",
       "      <td>약국</td>\n",
       "      <td>서울특별시</td>\n",
       "      <td>성동구</td>\n",
       "      <td>용답동</td>\n",
       "    </tr>\n",
       "    <tr>\n",
       "      <td>21</td>\n",
       "      <td>11860120</td>\n",
       "      <td>서울특별시 성동구 왕십리로20길 34 (홍익동)</td>\n",
       "      <td>없음</td>\n",
       "      <td>37.564878</td>\n",
       "      <td>127.035715</td>\n",
       "      <td>예전약국</td>\n",
       "      <td>break</td>\n",
       "      <td>없음</td>\n",
       "      <td>약국</td>\n",
       "      <td>서울특별시</td>\n",
       "      <td>성동구</td>\n",
       "      <td>홍익동</td>\n",
       "    </tr>\n",
       "    <tr>\n",
       "      <td>111</td>\n",
       "      <td>12852139</td>\n",
       "      <td>서울특별시 성동구 난계로 114-31 2층 (하왕십리동, 금호베스트빌 상가)</td>\n",
       "      <td>없음</td>\n",
       "      <td>37.561585</td>\n",
       "      <td>127.025997</td>\n",
       "      <td>방초한약국</td>\n",
       "      <td>break</td>\n",
       "      <td>없음</td>\n",
       "      <td>약국</td>\n",
       "      <td>서울특별시</td>\n",
       "      <td>성동구</td>\n",
       "      <td>하왕십리동</td>\n",
       "    </tr>\n",
       "    <tr>\n",
       "      <td>146</td>\n",
       "      <td>12868329</td>\n",
       "      <td>서울특별시 성동구 장터길 24 설당빌딩 1층 (금호동4가)</td>\n",
       "      <td>없음</td>\n",
       "      <td>37.548201</td>\n",
       "      <td>127.018575</td>\n",
       "      <td>금호우리약국</td>\n",
       "      <td>break</td>\n",
       "      <td>없음</td>\n",
       "      <td>약국</td>\n",
       "      <td>서울특별시</td>\n",
       "      <td>성동구</td>\n",
       "      <td>금호동</td>\n",
       "    </tr>\n",
       "  </tbody>\n",
       "</table>\n",
       "</div>"
      ],
      "text/plain": [
       "         식별코드                                          주소 데이터 생성일자         위도  \\\n",
       "5    11822155                  서울특별시 성동구 용답중앙3나길 24 (용답동)       없음  37.567839   \n",
       "21   11860120                  서울특별시 성동구 왕십리로20길 34 (홍익동)       없음  37.564878   \n",
       "111  12852139  서울특별시 성동구 난계로 114-31 2층 (하왕십리동, 금호베스트빌 상가)       없음  37.561585   \n",
       "146  12868329            서울특별시 성동구 장터길 24 설당빌딩 1층 (금호동4가)       없음  37.548201   \n",
       "\n",
       "             경도    약국이름  재고 상태 입고 시각 판매처 유형      시    구      동  \n",
       "5    127.050708    정민약국  break    없음     약국  서울특별시  성동구    용답동  \n",
       "21   127.035715    예전약국  break    없음     약국  서울특별시  성동구    홍익동  \n",
       "111  127.025997   방초한약국  break    없음     약국  서울특별시  성동구  하왕십리동  \n",
       "146  127.018575  금호우리약국  break    없음     약국  서울특별시  성동구    금호동  "
      ]
     },
     "execution_count": 7,
     "metadata": {},
     "output_type": "execute_result"
    }
   ],
   "source": [
    "# None인 데이터를 수정한다.\n",
    "\n",
    "# \"데이터 생성일자\" 컬럼값 : None -> \"없음\"\n",
    "ddf.loc[ddf['데이터 생성일자'].isnull(), '데이터 생성일자']=\"없음\"\n",
    "\n",
    "# \"재고 상태\": None ->  \"break\"\n",
    "ddf.loc[ddf['재고 상태'].isnull(), '재고 상태']='break'\n",
    "\n",
    "# \"입고 시각\": None ->  \"없음\"\n",
    "ddf.loc[ddf['입고 시각'].isnull(), '입고 시각']='없음'\n",
    "\n",
    "ddf.loc[ddf['데이터 생성일자']==\"없음\"]"
   ]
  },
  {
   "cell_type": "markdown",
   "metadata": {},
   "source": [
    "### (2-4-2) 재고 상태 확인하기\n",
    "\n",
    "재고 상태 컬럼의 종류를 살펴봤다. <br>\n",
    "- 데이터 출처의 설명서에 따르면 다음과 같다.<br>\n",
    "    - plenty: 100개 이상<br>\n",
    "    - some: 30개 이상 ~ 100개 미만\n",
    "    - few: 2개 이상 ~ 30개 미만\n",
    "    - empty: 1개 이하\n",
    "    - break: 판매 중지"
   ]
  },
  {
   "cell_type": "code",
   "execution_count": 8,
   "metadata": {},
   "outputs": [
    {
     "data": {
      "text/plain": [
       "break     53\n",
       "plenty    52\n",
       "empty     23\n",
       "some      15\n",
       "few        5\n",
       "Name: 재고 상태, dtype: int64"
      ]
     },
     "execution_count": 8,
     "metadata": {},
     "output_type": "execute_result"
    }
   ],
   "source": [
    "ddf['재고 상태'].value_counts()"
   ]
  },
  {
   "cell_type": "markdown",
   "metadata": {},
   "source": [
    "<br>\n",
    "\n",
    "### (2-5) 고친 후, 데이터 테이블의 컬럼별 정보 확인"
   ]
  },
  {
   "cell_type": "code",
   "execution_count": 9,
   "metadata": {},
   "outputs": [
    {
     "name": "stdout",
     "output_type": "stream",
     "text": [
      "<class 'pandas.core.frame.DataFrame'>\n",
      "RangeIndex: 148 entries, 0 to 147\n",
      "Data columns (total 12 columns):\n",
      "식별코드        148 non-null object\n",
      "주소          148 non-null object\n",
      "데이터 생성일자    148 non-null object\n",
      "위도          148 non-null float64\n",
      "경도          148 non-null float64\n",
      "약국이름        148 non-null object\n",
      "재고 상태       148 non-null object\n",
      "입고 시각       148 non-null object\n",
      "판매처 유형      148 non-null object\n",
      "시           148 non-null object\n",
      "구           148 non-null object\n",
      "동           148 non-null object\n",
      "dtypes: float64(2), object(10)\n",
      "memory usage: 14.0+ KB\n"
     ]
    }
   ],
   "source": [
    "ddf.info()"
   ]
  },
  {
   "cell_type": "code",
   "execution_count": 10,
   "metadata": {},
   "outputs": [
    {
     "data": {
      "text/html": [
       "<div>\n",
       "<style scoped>\n",
       "    .dataframe tbody tr th:only-of-type {\n",
       "        vertical-align: middle;\n",
       "    }\n",
       "\n",
       "    .dataframe tbody tr th {\n",
       "        vertical-align: top;\n",
       "    }\n",
       "\n",
       "    .dataframe thead th {\n",
       "        text-align: right;\n",
       "    }\n",
       "</style>\n",
       "<table border=\"1\" class=\"dataframe\">\n",
       "  <thead>\n",
       "    <tr style=\"text-align: right;\">\n",
       "      <th></th>\n",
       "      <th>식별코드</th>\n",
       "      <th>주소</th>\n",
       "      <th>데이터 생성일자</th>\n",
       "      <th>위도</th>\n",
       "      <th>경도</th>\n",
       "      <th>약국이름</th>\n",
       "      <th>재고 상태</th>\n",
       "      <th>입고 시각</th>\n",
       "      <th>판매처 유형</th>\n",
       "      <th>시</th>\n",
       "      <th>구</th>\n",
       "      <th>동</th>\n",
       "    </tr>\n",
       "  </thead>\n",
       "  <tbody>\n",
       "    <tr>\n",
       "      <td>0</td>\n",
       "      <td>11805382</td>\n",
       "      <td>서울특별시 성동구 마장로35길 76 1층 (마장동)</td>\n",
       "      <td>2020/04/20 23:55:00</td>\n",
       "      <td>37.570217</td>\n",
       "      <td>127.041988</td>\n",
       "      <td>세심약국</td>\n",
       "      <td>plenty</td>\n",
       "      <td>2020/04/20 08:36:00</td>\n",
       "      <td>약국</td>\n",
       "      <td>서울특별시</td>\n",
       "      <td>성동구</td>\n",
       "      <td>마장동</td>\n",
       "    </tr>\n",
       "    <tr>\n",
       "      <td>1</td>\n",
       "      <td>11812354</td>\n",
       "      <td>서울특별시 성동구 마조로 17 (행당동)</td>\n",
       "      <td>2020/04/20 23:55:00</td>\n",
       "      <td>37.559560</td>\n",
       "      <td>127.040471</td>\n",
       "      <td>한양약국</td>\n",
       "      <td>plenty</td>\n",
       "      <td>2020/04/20 08:42:00</td>\n",
       "      <td>약국</td>\n",
       "      <td>서울특별시</td>\n",
       "      <td>성동구</td>\n",
       "      <td>행당동</td>\n",
       "    </tr>\n",
       "    <tr>\n",
       "      <td>2</td>\n",
       "      <td>11815248</td>\n",
       "      <td>서울특별시 성동구 용답중앙길 80-1 (용답동)</td>\n",
       "      <td>2020/04/20 23:55:00</td>\n",
       "      <td>37.562674</td>\n",
       "      <td>127.054144</td>\n",
       "      <td>메디팜일진약국</td>\n",
       "      <td>plenty</td>\n",
       "      <td>2020/04/20 08:46:00</td>\n",
       "      <td>약국</td>\n",
       "      <td>서울특별시</td>\n",
       "      <td>성동구</td>\n",
       "      <td>용답동</td>\n",
       "    </tr>\n",
       "    <tr>\n",
       "      <td>3</td>\n",
       "      <td>11818395</td>\n",
       "      <td>서울특별시 성동구 동호로 100 511호 (금호동3가)</td>\n",
       "      <td>2020/04/20 23:55:00</td>\n",
       "      <td>37.550643</td>\n",
       "      <td>127.016466</td>\n",
       "      <td>대한약국</td>\n",
       "      <td>plenty</td>\n",
       "      <td>2020/04/20 09:09:00</td>\n",
       "      <td>약국</td>\n",
       "      <td>서울특별시</td>\n",
       "      <td>성동구</td>\n",
       "      <td>금호동</td>\n",
       "    </tr>\n",
       "    <tr>\n",
       "      <td>4</td>\n",
       "      <td>11820098</td>\n",
       "      <td>서울특별시 성동구 왕십리로 309 101호 (행당동, 이수이스타빌)</td>\n",
       "      <td>2020/03/15 23:55:00</td>\n",
       "      <td>37.561480</td>\n",
       "      <td>127.034710</td>\n",
       "      <td>이수프라자약국</td>\n",
       "      <td>empty</td>\n",
       "      <td>2020/03/11 10:25:00</td>\n",
       "      <td>약국</td>\n",
       "      <td>서울특별시</td>\n",
       "      <td>성동구</td>\n",
       "      <td>행당동</td>\n",
       "    </tr>\n",
       "  </tbody>\n",
       "</table>\n",
       "</div>"
      ],
      "text/plain": [
       "       식별코드                                     주소             데이터 생성일자  \\\n",
       "0  11805382           서울특별시 성동구 마장로35길 76 1층 (마장동)  2020/04/20 23:55:00   \n",
       "1  11812354                 서울특별시 성동구 마조로 17 (행당동)  2020/04/20 23:55:00   \n",
       "2  11815248             서울특별시 성동구 용답중앙길 80-1 (용답동)  2020/04/20 23:55:00   \n",
       "3  11818395         서울특별시 성동구 동호로 100 511호 (금호동3가)  2020/04/20 23:55:00   \n",
       "4  11820098  서울특별시 성동구 왕십리로 309 101호 (행당동, 이수이스타빌)  2020/03/15 23:55:00   \n",
       "\n",
       "          위도          경도     약국이름   재고 상태                입고 시각 판매처 유형      시  \\\n",
       "0  37.570217  127.041988     세심약국  plenty  2020/04/20 08:36:00     약국  서울특별시   \n",
       "1  37.559560  127.040471     한양약국  plenty  2020/04/20 08:42:00     약국  서울특별시   \n",
       "2  37.562674  127.054144  메디팜일진약국  plenty  2020/04/20 08:46:00     약국  서울특별시   \n",
       "3  37.550643  127.016466     대한약국  plenty  2020/04/20 09:09:00     약국  서울특별시   \n",
       "4  37.561480  127.034710  이수프라자약국   empty  2020/03/11 10:25:00     약국  서울특별시   \n",
       "\n",
       "     구    동  \n",
       "0  성동구  마장동  \n",
       "1  성동구  행당동  \n",
       "2  성동구  용답동  \n",
       "3  성동구  금호동  \n",
       "4  성동구  행당동  "
      ]
     },
     "execution_count": 10,
     "metadata": {},
     "output_type": "execute_result"
    }
   ],
   "source": [
    "ddf.head(5)"
   ]
  },
  {
   "cell_type": "markdown",
   "metadata": {},
   "source": [
    "<br><br>\n",
    "\n",
    "## 3. 그래프 시각화"
   ]
  },
  {
   "cell_type": "markdown",
   "metadata": {},
   "source": [
    "### 3-1. 각 컬럼별로 value_counts() 실행하기\n",
    "\n",
    "pandas의 내장함수인 value_counts()를 하여<br>\n",
    "각 컬럼에 속한 데이터의 종류를 알아봤다.<br>\n",
    "\n",
    "- '재고 상태' 컬럼의 종류를 나타내보기\n",
    "- '판매처 유형' 컬럼 나타내보기\n",
    "- '동' 컬럼별로 나타내보기\n",
    "    - 성동구 동별로 마스크 판매 분포가 어떤지 확인해봤다.\n"
   ]
  },
  {
   "cell_type": "code",
   "execution_count": 35,
   "metadata": {},
   "outputs": [],
   "source": [
    "# 그래프 관련 라이브러리 불러오기\n",
    "import matplotlib.pyplot as plt\n",
    "import seaborn as sns\n",
    "\n",
    "# jupyter notebook 내 그래프를 바로그리기 위한 설정\n",
    "%matplotlib inline\n",
    "\n",
    "# unicode minus를 사용하지 않기 위한 설정 (minus 깨짐현상 방지)\n",
    "plt.rcParams['axes.unicode_minus']=False\n",
    "plt.rcParams['font.family']='Malgun Gothic'"
   ]
  },
  {
   "cell_type": "code",
   "execution_count": 12,
   "metadata": {},
   "outputs": [
    {
     "data": {
      "text/plain": [
       "break     53\n",
       "plenty    52\n",
       "empty     23\n",
       "some      15\n",
       "few        5\n",
       "Name: 재고 상태, dtype: int64"
      ]
     },
     "execution_count": 12,
     "metadata": {},
     "output_type": "execute_result"
    }
   ],
   "source": [
    "# '재고 상태' 별\n",
    "ddf['재고 상태'].value_counts()"
   ]
  },
  {
   "cell_type": "code",
   "execution_count": 24,
   "metadata": {},
   "outputs": [
    {
     "data": {
      "text/plain": [
       "pandas.core.series.Series"
      ]
     },
     "execution_count": 24,
     "metadata": {},
     "output_type": "execute_result"
    }
   ],
   "source": [
    "# 각 컬럼에 해당하는 데이터들은 어떤 타입을 가지는가?\n",
    "type(ddf['재고 상태'])"
   ]
  },
  {
   "cell_type": "code",
   "execution_count": 13,
   "metadata": {},
   "outputs": [
    {
     "data": {
      "text/plain": [
       "Index(['break', 'plenty', 'empty', 'some', 'few'], dtype='object')"
      ]
     },
     "execution_count": 13,
     "metadata": {},
     "output_type": "execute_result"
    }
   ],
   "source": [
    "# values_count 결과물에는 keys()와 values()로 구분되어있다.\n",
    "ddf['재고 상태'].value_counts().keys()"
   ]
  },
  {
   "cell_type": "code",
   "execution_count": 18,
   "metadata": {},
   "outputs": [
    {
     "data": {
      "text/plain": [
       "약국    148\n",
       "Name: 판매처 유형, dtype: int64"
      ]
     },
     "execution_count": 18,
     "metadata": {},
     "output_type": "execute_result"
    }
   ],
   "source": [
    "# '판매처 유형별'\n",
    "ddf['판매처 유형'].value_counts()"
   ]
  },
  {
   "cell_type": "code",
   "execution_count": 19,
   "metadata": {},
   "outputs": [
    {
     "data": {
      "text/plain": [
       "서울특별시    148\n",
       "Name: 시, dtype: int64"
      ]
     },
     "execution_count": 19,
     "metadata": {},
     "output_type": "execute_result"
    }
   ],
   "source": [
    "# '시'\n",
    "ddf['시'].value_counts()"
   ]
  },
  {
   "cell_type": "code",
   "execution_count": 20,
   "metadata": {},
   "outputs": [
    {
     "data": {
      "text/plain": [
       "성동구    148\n",
       "Name: 구, dtype: int64"
      ]
     },
     "execution_count": 20,
     "metadata": {},
     "output_type": "execute_result"
    }
   ],
   "source": [
    "# '구'\n",
    "ddf['구'].value_counts()"
   ]
  },
  {
   "cell_type": "code",
   "execution_count": 21,
   "metadata": {},
   "outputs": [
    {
     "data": {
      "text/plain": [
       "성수동      35\n",
       "행당동      28\n",
       "금호동      25\n",
       "하왕십리동    16\n",
       "옥수동      10\n",
       "용답동       9\n",
       "마장동       8\n",
       "도선동       6\n",
       "송정동       4\n",
       "홍익동       3\n",
       "응봉동       2\n",
       "상왕십리동     1\n",
       "사근동       1\n",
       "Name: 동, dtype: int64"
      ]
     },
     "execution_count": 21,
     "metadata": {},
     "output_type": "execute_result"
    }
   ],
   "source": [
    "# '동' \n",
    "ddf['동'].value_counts()"
   ]
  },
  {
   "cell_type": "code",
   "execution_count": 17,
   "metadata": {},
   "outputs": [
    {
     "data": {
      "text/plain": [
       "성수동      35\n",
       "행당동      28\n",
       "금호동      25\n",
       "하왕십리동    16\n",
       "옥수동      10\n",
       "용답동       9\n",
       "마장동       8\n",
       "도선동       6\n",
       "송정동       4\n",
       "홍익동       3\n",
       "응봉동       2\n",
       "상왕십리동     1\n",
       "사근동       1\n",
       "Name: 동, dtype: int64"
      ]
     },
     "execution_count": 17,
     "metadata": {},
     "output_type": "execute_result"
    }
   ],
   "source": [
    "ddf.loc[ddf['동']=='상가1동) 상가동 2층 1203호 (행당동', '동']='행당동'\n",
    "ddf.loc[ddf['동']=='행당동, 행당동', '동']='행당동'\n",
    "ddf['동'].value_counts()"
   ]
  },
  {
   "cell_type": "markdown",
   "metadata": {},
   "source": [
    "<br>\n",
    "\n",
    "\n",
    "### 3-2. 성동구내 마스크 재고 상태 그래프 시각화\n",
    "\n",
    "- 참고 자료\n",
    "    - [[참고\\]- 그래프 시각화 한글 깨짐 방지](https://teddylee777.github.io/visualization/matplotlib-%EC%8B%9C%EA%B0%81%ED%99%94-%ED%95%9C%EA%B8%80%ED%8F%B0%ED%8A%B8%EC%A0%81%EC%9A%A9)\n",
    "    - [[참고\\] - 그래프 시각화 예쁘게 그리기](https://dailyheumsi.tistory.com/98)"
   ]
  },
  {
   "cell_type": "code",
   "execution_count": 52,
   "metadata": {},
   "outputs": [
    {
     "data": {
      "text/plain": [
       "<matplotlib.axes._subplots.AxesSubplot at 0x2292f888940>"
      ]
     },
     "execution_count": 52,
     "metadata": {},
     "output_type": "execute_result"
    },
    {
     "data": {
      "image/png": "[encoded data removed]",
      "text/plain": [
       "<Figure size 432x288 with 1 Axes>"
      ]
     },
     "metadata": {
      "needs_background": "light"
     },
     "output_type": "display_data"
    }
   ],
   "source": [
    "# seaborn을 이용해서 시각화\n",
    "sns.countplot(data=ddf, x='재고 상태')"
   ]
  },
  {
   "cell_type": "code",
   "execution_count": 51,
   "metadata": {},
   "outputs": [
    {
     "data": {
      "image/png": "[encoded data removed]",
      "text/plain": [
       "<Figure size 432x288 with 1 Axes>"
      ]
     },
     "metadata": {
      "needs_background": "light"
     },
     "output_type": "display_data"
    }
   ],
   "source": [
    "# pandas.plot()\n",
    "x=ddf['재고 상태'].value_counts()\n",
    "ax=x.plot(kind='bar',\n",
    "          title='성동구 마스크 재고 현황',\n",
    "          rot=0,\n",
    "          color='slategray')\n",
    "\n",
    "for v,p in zip(x.values, ax.patches):\n",
    "    left, bottom, width, height= p.get_bbox().bounds\n",
    "    ax.annotate('%d개'%(v), (left+width/2, height*1.01) , ha='center')\n",
    "\n",
    "plt.show()"
   ]
  },
  {
   "cell_type": "markdown",
   "metadata": {},
   "source": [
    "<br>\n",
    "\n",
    "### 3-3. 동별 마스크 판매 상태 시각화 그래프 1\n",
    "\n",
    "- hue: 마스크 재고 상태\n",
    "- x축: 동\n",
    "- seaborn의 countplot()"
   ]
  },
  {
   "cell_type": "code",
   "execution_count": null,
   "metadata": {},
   "outputs": [],
   "source": []
  },
  {
   "cell_type": "code",
   "execution_count": null,
   "metadata": {},
   "outputs": [],
   "source": []
  },
  {
   "cell_type": "markdown",
   "metadata": {},
   "source": [
    "<br>\n",
    "\n",
    "## 4. 지도 시각화\n",
    "\n",
    "### (4-1) folium 의 Chropleth maps 라이브러리 이용"
   ]
  },
  {
   "cell_type": "code",
   "execution_count": null,
   "metadata": {},
   "outputs": [],
   "source": []
  },
  {
   "cell_type": "code",
   "execution_count": null,
   "metadata": {},
   "outputs": [],
   "source": [
    "# 피벗 테이블을 만들어서\n",
    "# 성동구의 '동'을 기준으로 마스크 합계를 구한다."
   ]
  },
  {
   "cell_type": "code",
   "execution_count": null,
   "metadata": {},
   "outputs": [],
   "source": [
    "import numpy as np\n",
    "import folium\n",
    "import json\n",
    "geo_path='./map_data/skorea_municipalities_geo_simple.json'\n",
    "geo_str=json.load(open(geo_path, encoding='utf-8'))\n",
    "\n",
    "# mid_lat, mid_lng 구하기\n",
    "mid_lat, mid_lng= np.mean(ddf['위도']), np.mean(ddf['경도'])\n",
    "\n",
    "# 지도 디자인 만들기\n",
    "MAP=folium.MAP( \n",
    "    location=[mid_lat, mid_lng],  # 초기 지도 중심점 위치(모든 약국 위치의 중간값)\n",
    "    zoom_start=11,                # 초기 지도 배율\n",
    "    tiles='Stamen Toner'          # 지도 디자인\n",
    ")\n",
    "\n",
    "# 지도에 색깔입히기 (색깔의 기준-컬럼 에 따라 밝기가 다름.)\n",
    "MAP.choropleth(\n",
    "    geo_data=geo_str,\n",
    "    data=, # 지도에 나타낼 데이터\n",
    "    columns=(), # 밝기변화의 기준점\n",
    "    fill_color='BuPu',\n",
    "    key_on='feature.id'\n",
    ").add_to(MAP)\n",
    "\n",
    "# 지도 출력\n",
    "MAP\n"
   ]
  },
  {
   "cell_type": "code",
   "execution_count": null,
   "metadata": {},
   "outputs": [],
   "source": [
    "# 아직 마스크가 남은 곳을 표시한다."
   ]
  },
  {
   "cell_type": "markdown",
   "metadata": {},
   "source": [
    "<br>\n",
    "\n",
    "### (4-2) pydeck 라이브러리 이용\n",
    "\n",
    "\n",
    "[참고 자료 및 블로그]\n",
    "\n",
    "- [pydeck](https://pypi.org/project/pydeck/)\n",
    "- [어쩐지 오늘은](https://zzsza.github.io/data/2019/11/24/pydeck/)\n",
    "- [하나씩 점을 찍어 나가며](https://dailyheumsi.tistory.com/147?category=854906)"
   ]
  },
  {
   "cell_type": "code",
   "execution_count": null,
   "metadata": {},
   "outputs": [],
   "source": [
    "# import pydeck"
   ]
  }
 ],
 "metadata": {
  "kernelspec": {
   "display_name": "Python 3",
   "language": "python",
   "name": "python3"
  },
  "language_info": {
   "codemirror_mode": {
    "name": "ipython",
    "version": 3
   },
   "file_extension": ".py",
   "mimetype": "text/x-python",
   "name": "python",
   "nbconvert_exporter": "python",
   "pygments_lexer": "ipython3",
   "version": "3.7.0"
  }
 },
 "nbformat": 4,
 "nbformat_minor": 2
}
